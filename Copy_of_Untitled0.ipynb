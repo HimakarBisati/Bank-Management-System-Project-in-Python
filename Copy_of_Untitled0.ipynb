{
  "nbformat": 4,
  "nbformat_minor": 0,
  "metadata": {
    "colab": {
      "provenance": [],
      "authorship_tag": "ABX9TyMEnYicem/ikTln2aIM0Sx9",
      "include_colab_link": true
    },
    "kernelspec": {
      "name": "python3",
      "display_name": "Python 3"
    },
    "language_info": {
      "name": "python"
    }
  },
  "cells": [
    {
      "cell_type": "markdown",
      "metadata": {
        "id": "view-in-github",
        "colab_type": "text"
      },
      "source": [
        "<a href=\"https://colab.research.google.com/github/HimakarBisati/Bank-Management-System-Project-in-Python/blob/main/Copy_of_Untitled0.ipynb\" target=\"_parent\"><img src=\"https://colab.research.google.com/assets/colab-badge.svg\" alt=\"Open In Colab\"/></a>"
      ]
    },
    {
      "cell_type": "markdown",
      "source": [
        "Merge Sorted Array\n"
      ],
      "metadata": {
        "id": "ZJlcYE2h0n8k"
      }
    },
    {
      "cell_type": "code",
      "execution_count": 6,
      "metadata": {
        "id": "iZ6oOUt-tDeh",
        "colab": {
          "base_uri": "https://localhost:8080/"
        },
        "outputId": "8035b7eb-0f1e-4e88-98b2-95895442bf68"
      },
      "outputs": [
        {
          "output_type": "stream",
          "name": "stdout",
          "text": [
            "[1, 2, 2, 3, 5, 6]\n"
          ]
        }
      ],
      "source": [
        "nums1 = [1,2,3,0,0,0]  # First array with space for merging\n",
        "m = 3                  # Number of elements in nums1 to merge\n",
        "nums2 = [2,5,6]        # Second array to merge into nums1\n",
        "n = 3                  # Number of elements in nums2\n",
        "\n",
        "# Step 1: Merge nums2 into nums1\n",
        "nums1[m:m+n] = nums2  # This replaces the zeros at the end of nums1 with elements from nums2\n",
        "\n",
        "# Step 2: Sort nums1 to get the final merged array\n",
        "nums1.sort()\n",
        "\n",
        "# Step 3: Print the result\n",
        "print(nums1)  # Output: [1, 2, 2, 3, 5, 6]\n"
      ]
    },
    {
      "cell_type": "code",
      "source": [
        "nums1 = [1]  # First array with space for merging\n",
        "m = 1        # Number of elements in nums1 to merge\n",
        "nums2 = []   # Second array (empty)\n",
        "n = 0        # Number of elements in nums2\n",
        "\n",
        "# Step 1: Merge nums2 into nums1\n",
        "nums1[m:m+n] = nums2  # No change to nums1, since nums2 is empty\n",
        "\n",
        "# Step 2: Sort nums1 (unnecessary here since it's already sorted)\n",
        "\n",
        "# Step 3: Print the result\n",
        "print(nums1)  # Output: [1]\n"
      ],
      "metadata": {
        "colab": {
          "base_uri": "https://localhost:8080/"
        },
        "id": "k6OjwPJqxpMV",
        "outputId": "b25c03da-c0cb-4b31-a35b-87dabbc19cd5"
      },
      "execution_count": 7,
      "outputs": [
        {
          "output_type": "stream",
          "name": "stdout",
          "text": [
            "[1]\n"
          ]
        }
      ]
    },
    {
      "cell_type": "code",
      "source": [
        "nums1 = [0]  # First array with space for merging\n",
        "m = 0        # Number of elements in nums1 to merge\n",
        "nums2 = [1]  # Second array to merge into nums1\n",
        "n = 1        # Number of elements in nums2\n",
        "\n",
        "# Step 1: Merge nums2 into nums1\n",
        "nums1[m:m+n] = nums2  # This replaces the zero at the beginning of nums1 with element from nums2\n",
        "\n",
        "# Step 2: Sort nums1 to get the final merged array\n",
        "nums1.sort()\n",
        "\n",
        "# Step 3: Print the result\n",
        "print(nums1)  # Output: [1]\n"
      ],
      "metadata": {
        "colab": {
          "base_uri": "https://localhost:8080/"
        },
        "id": "cz3cb-ktz3iT",
        "outputId": "bbcd53dd-f160-4bf7-b705-23ef9da5ffaa"
      },
      "execution_count": 8,
      "outputs": [
        {
          "output_type": "stream",
          "name": "stdout",
          "text": [
            "[1]\n"
          ]
        }
      ]
    },
    {
      "cell_type": "markdown",
      "source": [
        "practice of Merge Sorted Array"
      ],
      "metadata": {
        "id": "7NAwzWY00VKL"
      }
    },
    {
      "cell_type": "code",
      "source": [
        "nums1=[1,2,3,4,0,0]\n",
        "m=3\n",
        "nums2=[4,5]\n",
        "n=1\n",
        "nums1[m:m+n]=nums2\n",
        "nums1.sort()\n",
        "print(nums1)"
      ],
      "metadata": {
        "colab": {
          "base_uri": "https://localhost:8080/"
        },
        "id": "Wb88C8iX0fRa",
        "outputId": "4a5b55b7-2a32-4efb-ba30-59ff6fdb9e26"
      },
      "execution_count": 27,
      "outputs": [
        {
          "output_type": "stream",
          "name": "stdout",
          "text": [
            "[0, 0, 1, 2, 3, 4, 5]\n"
          ]
        }
      ]
    },
    {
      "cell_type": "markdown",
      "source": [
        "Similar Questions\n"
      ],
      "metadata": {
        "id": "uBO8-I8x4EeE"
      }
    },
    {
      "cell_type": "code",
      "source": [],
      "metadata": {
        "id": "gEW-e_-B4FjJ"
      },
      "execution_count": null,
      "outputs": []
    }
  ]
}